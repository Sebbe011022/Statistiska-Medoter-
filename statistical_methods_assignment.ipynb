{
  "cells": [
    {
      "cell_type": "markdown",
      "metadata": {},
      "source": [
        "# Statistical Methods Assignment: Multiple Linear Regression\n",
        "\n",
        "This notebook demonstrates the implementation of multiple linear regression with comprehensive statistical analysis using only numpy and scipy.stats.\n",
        "\n",
        "## Assignment Requirements (Passing Grade G)\n",
        "- Property `d` that contains the number of features/parameters/dimensions of the model\n",
        "- Property `n` that contains the size of the sample\n",
        "- Function to calculate the variance\n",
        "- Function to calculate the standard deviation\n",
        "- Function that reports the significance of the regression\n",
        "- Function that reports the relevance of the regression (R²)\n"
      ]
    },
    {
      "cell_type": "code",
      "execution_count": 1,
      "metadata": {},
      "outputs": [],
      "source": [
        "# Import required modules\n",
        "import numpy as np\n",
        "import matplotlib.pyplot as plt\n",
        "from scipy import stats\n",
        "from linear_regression import LinearRegression\n",
        "\n",
        "# Set random seed for reproducibility\n",
        "np.random.seed(42)\n"
      ]
    },
    {
      "cell_type": "markdown",
      "metadata": {},
      "source": [
        "## 1. Generate Sample Data\n",
        "\n",
        "We'll create a synthetic dataset with multiple features to demonstrate the linear regression functionality.\n"
      ]
    },
    {
      "cell_type": "code",
      "execution_count": 2,
      "metadata": {},
      "outputs": [
        {
          "name": "stdout",
          "output_type": "stream",
          "text": [
            "Generated dataset with 100 samples and 3 features\n",
            "True intercept: 1.5\n",
            "True coefficients: [ 2.5 -1.2  0.8]\n",
            "Feature matrix shape: (100, 3)\n",
            "Target vector shape: (100,)\n"
          ]
        }
      ],
      "source": [
        "# Generate sample data\n",
        "n_samples = 100\n",
        "n_features = 3\n",
        "\n",
        "# Create feature matrix X with some correlation between features\n",
        "X = np.random.randn(n_samples, n_features)\n",
        "# Add some correlation between features 0 and 1\n",
        "X[:, 1] = 0.7 * X[:, 0] + 0.3 * X[:, 1]\n",
        "\n",
        "# Create true coefficients\n",
        "true_coefficients = np.array([2.5, -1.2, 0.8])\n",
        "true_intercept = 1.5\n",
        "\n",
        "# Generate target variable with noise\n",
        "y = true_intercept + X @ true_coefficients + 0.5 * np.random.randn(n_samples)\n",
        "\n",
        "print(f\"Generated dataset with {n_samples} samples and {n_features} features\")\n",
        "print(f\"True intercept: {true_intercept}\")\n",
        "print(f\"True coefficients: {true_coefficients}\")\n",
        "print(f\"Feature matrix shape: {X.shape}\")\n",
        "print(f\"Target vector shape: {y.shape}\")\n"
      ]
    },
    {
      "cell_type": "markdown",
      "metadata": {},
      "source": [
        "## 2. Initialize and Fit the Linear Regression Model\n"
      ]
    },
    {
      "cell_type": "code",
      "execution_count": 3,
      "metadata": {},
      "outputs": [
        {
          "name": "stdout",
          "output_type": "stream",
          "text": [
            "Kolumner i datasetet: ['Unnamed: 0', 'Flow', 'Kinematic', 'Geometric', 'Inertial', 'Observer']\n",
            "Model fitted successfully!\n",
            "Fitted intercept: 1.9436\n",
            "Fitted coefficients: [ 1.28130021e-03  6.67201543e-01 -5.48224778e-01 -1.97810389e+00\n",
            "  3.15896648e-01]\n",
            "Number of features (d): 5\n",
            "Number of samples (n): 198\n"
          ]
        }
      ],
      "source": [
        "import pandas as pd\n",
        "import numpy as np\n",
        "\n",
        "# Läs in CSV-filen\n",
        "data = pd.read_csv(\"Small-diameter-flow.csv\")\n",
        "\n",
        "# Visa kolumnnamnen för att se vad som finns\n",
        "print(\"Kolumner i datasetet:\", data.columns.tolist())\n",
        "\n",
        "# Anta att den sista kolumnen är target\n",
        "X = data.iloc[:, :-1].values  # alla kolumner utom sista som features\n",
        "y = data.iloc[:, -1].values   # sista kolumnen som target\n",
        "\n",
        "# --- LinearRegression-klassen (som vi fixade tidigare) ---\n",
        "class LinearRegression:\n",
        "    def __init__(self):\n",
        "        self._n = 0\n",
        "        self._d = 0\n",
        "        self.intercept = 0\n",
        "        self.feature_coefficients = []\n",
        "        self._fitted = False\n",
        "\n",
        "    @property\n",
        "    def n(self):\n",
        "        return self._n\n",
        "\n",
        "    @property\n",
        "    def d(self):\n",
        "        return self._d\n",
        "\n",
        "    def fit(self, X, y):\n",
        "        import numpy as np\n",
        "        X_b = np.c_[np.ones((len(X), 1)), X]  # lägg till intercept\n",
        "        theta = np.linalg.pinv(X_b.T.dot(X_b)).dot(X_b.T).dot(y)\n",
        "        self.intercept = theta[0]\n",
        "        self.feature_coefficients = theta[1:]\n",
        "        self._n, self._d = X.shape\n",
        "        self._fitted = True\n",
        "\n",
        "# --- Träna modellen ---\n",
        "model = LinearRegression()\n",
        "model.fit(X, y)\n",
        "\n",
        "print(\"Model fitted successfully!\")\n",
        "print(f\"Fitted intercept: {model.intercept:.4f}\")\n",
        "print(f\"Fitted coefficients: {model.feature_coefficients}\")\n",
        "print(f\"Number of features (d): {model.d}\")\n",
        "print(f\"Number of samples (n): {model.n}\")\n",
        "\n"
      ]
    },
    {
      "cell_type": "markdown",
      "metadata": {},
      "source": [
        "## 3. Demonstrate Required Properties\n",
        "\n",
        "### Property `d` - Number of features/parameters/dimensions\n"
      ]
    },
    {
      "cell_type": "code",
      "execution_count": 4,
      "metadata": {},
      "outputs": [
        {
          "name": "stdout",
          "output_type": "stream",
          "text": [
            "Number of features (d): 5\n",
            "This represents the dimensionality of our feature space\n"
          ]
        }
      ],
      "source": [
        "print(f\"Number of features (d): {model.d}\")\n",
        "print(f\"This represents the dimensionality of our feature space\")\n"
      ]
    },
    {
      "cell_type": "markdown",
      "metadata": {},
      "source": [
        "### Property `n` - Size of the sample\n"
      ]
    },
    {
      "cell_type": "code",
      "execution_count": 5,
      "metadata": {},
      "outputs": [
        {
          "name": "stdout",
          "output_type": "stream",
          "text": [
            "Number of samples (n): 198\n",
            "This represents the number of observations in our dataset\n"
          ]
        }
      ],
      "source": [
        "print(f\"Number of samples (n): {model.n}\")\n",
        "print(f\"This represents the number of observations in our dataset\")\n"
      ]
    },
    {
      "cell_type": "markdown",
      "metadata": {},
      "source": [
        "## 4. Calculate Variance and Standard Deviation\n",
        "\n",
        "### Variance Calculation\n"
      ]
    },
    {
      "cell_type": "code",
      "execution_count": 1,
      "metadata": {},
      "outputs": [],
      "source": [
        "import numpy as np\n",
        "\n",
        "class LinearRegression:\n",
        "    def __init__(self):\n",
        "        self._n = 0\n",
        "        self._d = 0\n",
        "        self.intercept = 0\n",
        "        self.feature_coefficients = []\n",
        "        self._fitted = False\n",
        "\n",
        "    @property\n",
        "    def n(self):\n",
        "        return self._n\n",
        "\n",
        "    @property\n",
        "    def d(self):\n",
        "        return self._d\n",
        "\n",
        "    def fit(self, X, y):\n",
        "        # Lägg till intercept\n",
        "        X_b = np.c_[np.ones((len(X), 1)), X]\n",
        "        # Normalekvation: theta = (X^T X)^-1 X^T y\n",
        "        theta = np.linalg.pinv(X_b.T.dot(X_b)).dot(X_b.T).dot(y)\n",
        "        self.intercept = theta[0]\n",
        "        self.feature_coefficients = theta[1:]\n",
        "        self._n, self._d = X.shape\n",
        "        self._fitted = True\n",
        "        self.X_b = X_b  # spara X med intercept\n",
        "        self.y = y      # spara y\n",
        "\n",
        "    def predict(self, X):\n",
        "        X_b = np.c_[np.ones((len(X), 1)), X]\n",
        "        return X_b.dot(np.r_[self.intercept, self.feature_coefficients])\n",
        "\n",
        "    def calculate_variance(self):\n",
        "        if not self._fitted:\n",
        "            raise ValueError(\"Model is not fitted yet!\")\n",
        "        y_pred = self.predict(self.X_b[:, 1:])  # använd original X\n",
        "        sse = np.sum((self.y - y_pred) ** 2)\n",
        "        return sse / (self._n - self._d - 1)\n"
      ]
    },
    {
      "cell_type": "markdown",
      "metadata": {},
      "source": [
        "### Standard Deviation Calculation\n"
      ]
    },
    {
      "cell_type": "code",
      "execution_count": 7,
      "metadata": {},
      "outputs": [],
      "source": [
        "class LinearRegression:\n",
        "    def __init__(self):\n",
        "        self._n = 0\n",
        "        self._d = 0\n",
        "        self.intercept = 0\n",
        "        self.feature_coefficients = []\n",
        "        self._fitted = False\n",
        "\n",
        "    @property\n",
        "    def n(self):\n",
        "        return self._n\n",
        "\n",
        "    @property\n",
        "    def d(self):\n",
        "        return self._d\n",
        "\n",
        "    def fit(self, X, y):\n",
        "        import numpy as np\n",
        "        X_b = np.c_[np.ones((len(X), 1)), X]  # Lägg till intercept\n",
        "        theta = np.linalg.pinv(X_b.T.dot(X_b)).dot(X_b.T).dot(y)\n",
        "        self.intercept = theta[0]\n",
        "        self.feature_coefficients = theta[1:]\n",
        "        self._n, self._d = X.shape\n",
        "        self._fitted = True\n",
        "        self.X_b = X_b\n",
        "        self.y = y\n",
        "\n",
        "    def predict(self, X):\n",
        "        import numpy as np\n",
        "        X_b = np.c_[np.ones((len(X), 1)), X]\n",
        "        return X_b.dot(np.r_[self.intercept, self.feature_coefficients])\n",
        "\n",
        "    def calculate_variance(self):\n",
        "        import numpy as np\n",
        "        if not self._fitted:\n",
        "            raise ValueError(\"Model is not fitted yet!\")\n",
        "        y_pred = self.predict(self.X_b[:, 1:])\n",
        "        sse = np.sum((self.y - y_pred) ** 2)\n",
        "        return sse / (self._n - self._d - 1)\n",
        "\n",
        "    def calculate_standard_deviation(self):\n",
        "        import numpy as np\n",
        "        return np.sqrt(self.calculate_variance())\n",
        "\n"
      ]
    },
    {
      "cell_type": "markdown",
      "metadata": {},
      "source": [
        "## 5. Regression Significance Testing\n",
        "\n",
        "### F-test for Overall Regression Significance\n"
      ]
    },
    {
      "cell_type": "code",
      "execution_count": 8,
      "metadata": {},
      "outputs": [],
      "source": [
        "class LinearRegression:\n",
        "    def __init__(self):\n",
        "        self._n = 0\n",
        "        self._d = 0\n",
        "        self.intercept = 0\n",
        "        self.feature_coefficients = []\n",
        "        self._fitted = False\n",
        "\n",
        "    @property\n",
        "    def n(self):\n",
        "        return self._n\n",
        "\n",
        "    @property\n",
        "    def d(self):\n",
        "        return self._d\n",
        "\n",
        "    def fit(self, X, y):\n",
        "        import numpy as np\n",
        "        X_b = np.c_[np.ones((len(X), 1)), X]\n",
        "        theta = np.linalg.pinv(X_b.T.dot(X_b)).dot(X_b.T).dot(y)\n",
        "        self.intercept = theta[0]\n",
        "        self.feature_coefficients = theta[1:]\n",
        "        self._n, self._d = X.shape\n",
        "        self._fitted = True\n",
        "        self.X_b = X_b\n",
        "        self.y = y\n",
        "\n",
        "    def predict(self, X):\n",
        "        import numpy as np\n",
        "        X_b = np.c_[np.ones((len(X), 1)), X]\n",
        "        return X_b.dot(np.r_[self.intercept, self.feature_coefficients])\n",
        "\n",
        "    def calculate_variance(self):\n",
        "        import numpy as np\n",
        "        if not self._fitted:\n",
        "            raise ValueError(\"Model is not fitted yet!\")\n",
        "        y_pred = self.predict(self.X_b[:, 1:])\n",
        "        sse = np.sum((self.y - y_pred) ** 2)\n",
        "        return sse / (self._n - self._d - 1)\n",
        "\n",
        "    def calculate_standard_deviation(self):\n",
        "        import numpy as np\n",
        "        return np.sqrt(self.calculate_variance())\n",
        "\n",
        "    def test_regression_significance(self):\n",
        "        \"\"\"\n",
        "        Beräknar F-statistik och p-värde för regressionssignifikans\n",
        "        H0: Alla koefficienter = 0\n",
        "        \"\"\"\n",
        "        import numpy as np\n",
        "        from scipy.stats import f\n",
        "\n",
        "        if not self._fitted:\n",
        "            raise ValueError(\"Model is not fitted yet!\")\n",
        "\n",
        "        y_pred = self.predict(self.X_b[:, 1:])\n",
        "        ss_total = np.sum((self.y - np.mean(self.y)) ** 2)\n",
        "        ss_res = np.sum((self.y - y_pred) ** 2)\n",
        "        ss_reg = ss_total - ss_res\n",
        "\n",
        "        df_reg = self.d\n",
        "        df_res = self.n - self.d - 1\n",
        "\n",
        "        f_statistic = (ss_reg / df_reg) / (ss_res / df_res)\n",
        "        p_value = 1 - f.cdf(f_statistic, df_reg, df_res)\n",
        "        return f_statistic, p_value\n",
        "\n"
      ]
    },
    {
      "cell_type": "code",
      "execution_count": 9,
      "metadata": {},
      "outputs": [
        {
          "name": "stdout",
          "output_type": "stream",
          "text": [
            "Modelens form\n",
            "Antal rader (n): 198\n",
            "Antal variabler (d): 5\n",
            "\n",
            "Regressionskoefficienter (b)\n",
            "beta_0 (intercept): 1.9436\n",
            "beta_1: 0.0013\n",
            "beta_2: 0.6672\n",
            "beta_3: -0.5482\n",
            "beta_4: -1.9781\n",
            "beta_5: 0.3159\n"
          ]
        }
      ],
      "source": [
        "# Skriver ut resultatet\n",
        "print(\"Modelens form\")\n",
        "print(f\"Antal rader (n): {model.n}\")\n",
        "print(f\"Antal variabler (d): {model.d}\")\n",
        "\n",
        "print(\"\\nRegressionskoefficienter (b)\")\n",
        "print(f\"beta_0 (intercept): {model.intercept:.4f}\")\n",
        "\n",
        "for i, coef in enumerate(model.feature_coefficients, start=1):\n",
        "    print(f\"beta_{i}: {coef:.4f}\")\n"
      ]
    },
    {
      "cell_type": "markdown",
      "metadata": {},
      "source": [
        "## 6. Regression Relevance (R²)\n",
        "\n",
        "### Coefficient of Multiple Determination\n"
      ]
    },
    {
      "cell_type": "code",
      "execution_count": 10,
      "metadata": {},
      "outputs": [],
      "source": [
        "import numpy as np\n",
        "from scipy.stats import f\n",
        "\n",
        "class LinearRegression:\n",
        "    def __init__(self):\n",
        "        self._n = 0\n",
        "        self._d = 0\n",
        "        self.intercept = 0\n",
        "        self.feature_coefficients = []\n",
        "        self._fitted = False\n",
        "\n",
        "    @property\n",
        "    def n(self):\n",
        "        return self._n\n",
        "\n",
        "    @property\n",
        "    def d(self):\n",
        "        return self._d\n",
        "\n",
        "    def fit(self, X, y):\n",
        "        X_b = np.c_[np.ones((len(X), 1)), X]  # Lägg till intercept\n",
        "        theta = np.linalg.pinv(X_b.T.dot(X_b)).dot(X_b.T).dot(y)\n",
        "        self.intercept = theta[0]\n",
        "        self.feature_coefficients = theta[1:]\n",
        "        self._n, self._d = X.shape\n",
        "        self._fitted = True\n",
        "        self.X_b = X_b\n",
        "        self.y = y\n",
        "\n",
        "    def predict(self, X):\n",
        "        X_b = np.c_[np.ones((len(X), 1)), X]\n",
        "        return X_b.dot(np.r_[self.intercept, self.feature_coefficients])\n",
        "\n",
        "    def calculate_variance(self):\n",
        "        if not self._fitted:\n",
        "            raise ValueError(\"Model is not fitted yet!\")\n",
        "        y_pred = self.predict(self.X_b[:, 1:])\n",
        "        sse = np.sum((self.y - y_pred) ** 2)\n",
        "        return sse / (self._n - self._d - 1)\n",
        "\n",
        "    def calculate_standard_deviation(self):\n",
        "        return np.sqrt(self.calculate_variance())\n",
        "\n",
        "    def test_regression_significance(self):\n",
        "        if not self._fitted:\n",
        "            raise ValueError(\"Model is not fitted yet!\")\n",
        "        y_pred = self.predict(self.X_b[:, 1:])\n",
        "        ss_total = np.sum((self.y - np.mean(self.y)) ** 2)\n",
        "        ss_res = np.sum((self.y - y_pred) ** 2)\n",
        "        ss_reg = ss_total - ss_res\n",
        "        df_reg = self.d\n",
        "        df_res = self.n - self.d - 1\n",
        "        f_statistic = (ss_reg / df_reg) / (ss_res / df_res)\n",
        "        p_value = 1 - f.cdf(f_statistic, df_reg, df_res)\n",
        "        return f_statistic, p_value\n",
        "\n",
        "    def calculate_r_squared(self):\n",
        "        if not self._fitted:\n",
        "            rais\n"
      ]
    },
    {
      "cell_type": "code",
      "execution_count": 19,
      "metadata": {},
      "outputs": [
        {
          "name": "stdout",
          "output_type": "stream",
          "text": [
            "Modelens form\n"
          ]
        },
        {
          "ename": "NameError",
          "evalue": "name 'model' is not defined",
          "output_type": "error",
          "traceback": [
            "\u001b[1;31m---------------------------------------------------------------------------\u001b[0m",
            "\u001b[1;31mNameError\u001b[0m                                 Traceback (most recent call last)",
            "Cell \u001b[1;32mIn[19], line 3\u001b[0m\n\u001b[0;32m      1\u001b[0m \u001b[38;5;66;03m# Skriver ut resultatet\u001b[39;00m\n\u001b[0;32m      2\u001b[0m \u001b[38;5;28mprint\u001b[39m(\u001b[38;5;124m\"\u001b[39m\u001b[38;5;124mModelens form\u001b[39m\u001b[38;5;124m\"\u001b[39m)\n\u001b[1;32m----> 3\u001b[0m \u001b[38;5;28mprint\u001b[39m(\u001b[38;5;124mf\u001b[39m\u001b[38;5;124m\"\u001b[39m\u001b[38;5;124mAntal rader (n): \u001b[39m\u001b[38;5;132;01m{\u001b[39;00m\u001b[43mmodel\u001b[49m\u001b[38;5;241m.\u001b[39mn\u001b[38;5;132;01m}\u001b[39;00m\u001b[38;5;124m\"\u001b[39m)\n\u001b[0;32m      4\u001b[0m \u001b[38;5;28mprint\u001b[39m(\u001b[38;5;124mf\u001b[39m\u001b[38;5;124m\"\u001b[39m\u001b[38;5;124mAntal variabler (d): \u001b[39m\u001b[38;5;132;01m{\u001b[39;00mmodel\u001b[38;5;241m.\u001b[39md\u001b[38;5;132;01m}\u001b[39;00m\u001b[38;5;124m\"\u001b[39m)\n\u001b[0;32m      6\u001b[0m \u001b[38;5;28mprint\u001b[39m(\u001b[38;5;124m\"\u001b[39m\u001b[38;5;130;01m\\n\u001b[39;00m\u001b[38;5;124mRegressionskoefficienter (b)\u001b[39m\u001b[38;5;124m\"\u001b[39m)\n",
            "\u001b[1;31mNameError\u001b[0m: name 'model' is not defined"
          ]
        }
      ],
      "source": [
        "# Skriver ut resultatet\n",
        "print(\"Modelens form\")\n",
        "print(f\"Antal rader (n): {model.n}\")\n",
        "print(f\"Antal variabler (d): {model.d}\")\n",
        "\n",
        "print(\"\\nRegressionskoefficienter (b)\")\n",
        "print(f\"beta_0: {model.b[0]:.4f}\")\n",
        "print(f\"beta_1: {model.b[1]:.4f}\")\n",
        "print(f\"beta_2: {model.b[2]:.4f}\")\n",
        "print(f\"beta_3: {model.b[3]:.4f}\")\n",
        "print(f\"beta_4: {model.b[4]:.4f}\")\n",
        "\n",
        "print(\"\\nStatistiska analyseringar\")\n",
        "print(f\"Varians : {model.var:.4f}\")\n",
        "print(f\"Standardavvikelse: {model.std:.4f}\")\n",
        "print(f\"R^2-värde: {model.calculate_r2():.4f}\")\n",
        "\n",
        "# Hämtar ut och sedan skriver ut F-test statistiken och p-värdet\n",
        "F_stat, p_val = model.calculate_f_test_significance()\n",
        "print(\"\\nSignifikanser\")\n",
        "print(f\"F = {F_stat} p = {p_val}\")"
      ]
    },
    {
      "cell_type": "markdown",
      "metadata": {},
      "source": []
    }
  ],
  "metadata": {
    "kernelspec": {
      "display_name": ".venv",
      "language": "python",
      "name": "python3"
    },
    "language_info": {
      "codemirror_mode": {
        "name": "ipython",
        "version": 3
      },
      "file_extension": ".py",
      "mimetype": "text/x-python",
      "name": "python",
      "nbconvert_exporter": "python",
      "pygments_lexer": "ipython3",
      "version": "3.12.6"
    }
  },
  "nbformat": 4,
  "nbformat_minor": 2
}
